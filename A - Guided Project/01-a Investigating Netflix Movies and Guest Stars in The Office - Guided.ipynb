{
 "cells": [
  {
   "cell_type": "code",
   "execution_count": 1,
   "metadata": {},
   "outputs": [],
   "source": [
    "#This notebook details the DataCamp guided project 'Investigating Netflix Movies and Guest Stars in The Office',\n",
    "#completed after the 'Intermediate Python' course led by Hugo Bowne-Anderson. The project was designed by Justin Saddlemyer."
   ]
  },
  {
   "cell_type": "code",
   "execution_count": 3,
   "metadata": {},
   "outputs": [],
   "source": [
    "#Netflix! What started in 1997 as a DVD rental service has since exploded into the largest entertainment/media company by market \n",
    "#capitalization, boasting over 200 million subscribers as of January 2021.\n",
    "\n",
    "#Given the large number of movies and series available on the platform, it is a perfect opportunity to flex our data manipulation\n",
    "#skills and dive into the entertainment industry. Our friend has also been brushing up on their Python skills and has taken a \n",
    "#first crack at a CSV file containing Netflix data. For their first order of business, they have been performing some analyses, \n",
    "#and they believe that the average duration of movies has been declining.\n",
    "\n",
    "#As evidence of this, they have provided us with the following information. For the years from 2011 to 2020, the average movie \n",
    "#durations are 103, 101, 99, 100, 100, 95, 95, 96, 93, and 90, respectively.\n",
    "\n",
    "\n",
    "#TASK 1: Load your friend's data into a dictionary\n",
    "#If we're going to be working with this data, we know a good place to start would be to probably start working with pandas. But \n",
    "#first we'll need to create a DataFrame from scratch. Let's start by creating a Python object covered in Intermediate Python: a \n",
    "#dictionary!"
   ]
  },
  {
   "cell_type": "code",
   "execution_count": 4,
   "metadata": {},
   "outputs": [
    {
     "data": {
      "text/plain": [
       "{'years': [2011, 2012, 2013, 2014, 2015, 2016, 2017, 2018, 2019, 2020],\n",
       " 'durations': [103, 101, 99, 100, 100, 95, 95, 96, 93, 90]}"
      ]
     },
     "execution_count": 4,
     "metadata": {},
     "output_type": "execute_result"
    }
   ],
   "source": [
    "import pandas as pd\n",
    "import matplotlib.pyplot as plt\n",
    "\n",
    "# Create the years and durations lists\n",
    "years = [2011, 2012, 2013, 2014, 2015, 2016, 2017, 2018, 2019, 2020]\n",
    "durations = [103, 101, 99, 100, 100, 95, 95, 96, 93, 90]\n",
    "\n",
    "# Create a dictionary with the two lists\n",
    "movie_dict = {\"years\":years,\n",
    "                 \"durations\":durations}\n",
    "\n",
    "# Print the dictionary\n",
    "movie_dict"
   ]
  },
  {
   "cell_type": "code",
   "execution_count": 5,
   "metadata": {},
   "outputs": [],
   "source": [
    "#TASK 2: Creating a DataFrame from a dictionary"
   ]
  },
  {
   "cell_type": "code",
   "execution_count": 6,
   "metadata": {},
   "outputs": [
    {
     "name": "stdout",
     "output_type": "stream",
     "text": [
      "   years  durations\n",
      "0   2011        103\n",
      "1   2012        101\n",
      "2   2013         99\n",
      "3   2014        100\n",
      "4   2015        100\n",
      "5   2016         95\n",
      "6   2017         95\n",
      "7   2018         96\n",
      "8   2019         93\n",
      "9   2020         90\n"
     ]
    }
   ],
   "source": [
    "# Create a DataFrame from the dictionary\n",
    "durations_df = pd.DataFrame.from_dict(movie_dict)\n",
    "\n",
    "# Print the DataFrame\n",
    "print(durations_df)"
   ]
  },
  {
   "cell_type": "code",
   "execution_count": 7,
   "metadata": {},
   "outputs": [],
   "source": [
    "#TASK 3: A visual inspection of our data\n",
    "#Given that the data is continuous, a line plot would be a good choice, with the dates represented along the x-axis and the \n",
    "#average length in minutes along the y-axis. This will allow us to easily spot any trends in movie durations. There are many \n",
    "#ways to visualize data in Python, but matploblib.pyplot is one of the most common packages to do so.\n",
    "\n",
    "#Note: In order for us to correctly test your plot, you will need to initalize a matplotlib.pyplot Figure object, which we have \n",
    "#already provided in the cell below. You can continue to create your plot as you have learned in Intermediate Python."
   ]
  },
  {
   "cell_type": "code",
   "execution_count": 8,
   "metadata": {},
   "outputs": [
    {
     "data": {
      "image/png": "[encoded data removed]",
      "text/plain": [
       "<Figure size 432x288 with 1 Axes>"
      ]
     },
     "metadata": {
      "needs_background": "light"
     },
     "output_type": "display_data"
    }
   ],
   "source": [
    "fig = plt.figure()\n",
    "\n",
    "# Draw a line plot of release_years and durations\n",
    "plt.plot(years,durations)\n",
    "\n",
    "# Create a title\n",
    "plt.title('Netflix Movie Durations 2011-2020')\n",
    "\n",
    "# Show the plot\n",
    "plt.show(fig)"
   ]
  },
  {
   "cell_type": "code",
   "execution_count": 9,
   "metadata": {},
   "outputs": [],
   "source": [
    "#TASK 4: Loading the rest of the data from a CSV\n",
    "#Well, it looks like there is something to the idea that movie lengths have decreased over the past ten years! But equipped \n",
    "#only with our friend's aggregations, we're limited in the further explorations we can perform. There are a few questions about \n",
    "#this trend that we are currently unable to answer, including:\n",
    "\n",
    "#What does this trend look like over a longer period of time?\n",
    "#Is this explainable by something like the genre of entertainment?\n",
    "#Upon asking our friend for the original CSV they used to perform their analyses, they gladly oblige and send it. We now have \n",
    "#access to the CSV file, available at the path \"datasets/netflix_data.csv\". Let's create another DataFrame, this time with all \n",
    "#of the data. Given the length of our friend's data, printing the whole DataFrame is probably not a good idea, so we will \n",
    "#inspect it by printing only the first five rows.\n"
   ]
  },
  {
   "cell_type": "code",
   "execution_count": null,
   "metadata": {},
   "outputs": [],
   "source": [
    "# Read in the CSV as a DataFrame\n",
    "netflix_df = pd.read_csv(\"datasets/netflix_data.csv\")\n",
    "\n",
    "# Print the first five rows of the DataFrame\n",
    "print(netflix_df.head())"
   ]
  },
  {
   "cell_type": "code",
   "execution_count": 11,
   "metadata": {},
   "outputs": [],
   "source": [
    "#TASK 5: Filtering for movies!\n",
    "#Okay, we have our data! Now we can dive in and start looking at movie lengths.\n",
    "\n",
    "#Or can we? Looking at the first five rows of our new DataFrame, we notice a column type. Scanning the column, it's clear there \n",
    "#are also TV shows in the dataset! Moreover, the duration column we planned to use seems to represent different values depending \n",
    "#on whether the row is a movie or a show (perhaps the number of minutes versus the number of seasons)?\n",
    "\n",
    "#Fortunately, a DataFrame allows us to filter data quickly, and we can select rows where type is Movie. While we're at it, we \n",
    "#don't need information from all of the columns, so let's create a new DataFrame netflix_movies containing only title, country, \n",
    "#genre, release_year, and duration.\n",
    "\n",
    "#Let's put our data subsetting skills to work!"
   ]
  },
  {
   "cell_type": "code",
   "execution_count": null,
   "metadata": {},
   "outputs": [],
   "source": [
    "# Subset the DataFrame for type \"Movie\"\n",
    "netflix_df_movies_only = netflix_df[netflix_df['type']=='Movie']\n",
    "\n",
    "# Select only the columns of interest\n",
    "netflix_movies_col_subset = netflix_df_movies_only[['title','country','genre','release_year','duration']]\n",
    "\n",
    "# Print the first five rows of the new DataFrame\n",
    "print(netflix_movies_col_subset.head())"
   ]
  },
  {
   "cell_type": "code",
   "execution_count": null,
   "metadata": {},
   "outputs": [],
   "source": [
    "#TASK 6: Creating a scatter plot\n",
    "#Okay, now we're getting somewhere. We've read in the raw data, selected rows of movies, and have limited our DataFrame to our \n",
    "#columns of interest. Let's try visualizing the data again to inspect the data over a longer range of time.\n",
    "\n",
    "#This time, we are no longer working with aggregates but instead with individual movies. A line plot is no longer a good choice \n",
    "#for our data, so let's try a scatter plot instead. We will again plot the year of release on the x-axis and the movie duration \n",
    "#on the y-axis.\n",
    "\n",
    "#Note: Although not taught in Intermediate Python, we have provided you the code fig = plt.figure(figsize=(12,8)) to increase \n",
    "#the size of the plot (to help you see the results), as well as to assist with testing. For more information on how to create \n",
    "#or work with a matplotlib figure, refer to the documentation."
   ]
  },
  {
   "cell_type": "code",
   "execution_count": null,
   "metadata": {},
   "outputs": [],
   "source": [
    "# Create a figure and increase the figure size\n",
    "fig = plt.figure(figsize=(12,8))\n",
    "\n",
    "# Create a scatter plot of duration versus year\n",
    "plt.scatter(netflix_movies_col_subset['release_year'],netflix_movies_col_subset['duration'])\n",
    "\n",
    "# Create a title\n",
    "plt.title(\"Movie Duration by Year of Release\")\n",
    "\n",
    "# Show the plot\n",
    "plt.show"
   ]
  },
  {
   "cell_type": "code",
   "execution_count": null,
   "metadata": {},
   "outputs": [],
   "source": [
    "#TASK 7: Digging deeper\n",
    "#This is already much more informative than the simple plot we created when our friend first gave us some data. We can also see \n",
    "#that, while newer movies are overrepresented on the platform, many short movies have been released in the past two decades.\n",
    "\n",
    "#Upon further inspection, something else is going on. Some of these films are under an hour long! Let's filter our DataFrame for \n",
    "#movies with a duration under 60 minutes and look at the genres. This might give us some insight into what is dragging down the \n",
    "#average."
   ]
  },
  {
   "cell_type": "code",
   "execution_count": null,
   "metadata": {},
   "outputs": [],
   "source": [
    "# Filter for durations shorter than 60 minutes\n",
    "filmduration = netflix_movies_col_subset['duration']\n",
    "short_movies = netflix_movies_col_subset[filmduration < 60]\n",
    "\n",
    "# Print the first 20 rows of short_movies\n",
    "print(short_movies.head(20))"
   ]
  },
  {
   "cell_type": "code",
   "execution_count": null,
   "metadata": {},
   "outputs": [],
   "source": [
    "#TASK 8: Marking non-feature films\n",
    "#Interesting! It looks as though many of the films that are under 60 minutes fall into genres such as \"Children\", \"Stand-Up\", \n",
    "#and \"Documentaries\". This is a logical result, as these types of films are probably often shorter than 90 minute Hollywood \n",
    "#blockbuster.\n",
    "\n",
    "#We could eliminate these rows from our DataFrame and plot the values again. But another interesting way to explore the effect \n",
    "#of these genres on our data would be to plot them, but mark them with a different color.\n",
    "\n",
    "#In Python, there are many ways to do this, but one fun way might be to use a loop to generate a list of colors based on the \n",
    "#contents of the genre column. Much as we did in Intermediate Python, we can then pass this list to our plotting function in a \n",
    "#later step to color all non-typical genres in a different color!\n",
    "\n",
    "#Note: Although we are using the basic colors of red, blue, green, and black, matplotlib has many named colors you can use when \n",
    "#creating plots. For more information, you can refer to the documentation here!"
   ]
  },
  {
   "cell_type": "code",
   "execution_count": null,
   "metadata": {},
   "outputs": [],
   "source": [
    "# Define an empty list\n",
    "colors = []\n",
    "\n",
    "# Iterate over rows of netflix_movies_col_subset\n",
    "for index, row in list(netflix_movies_col_subset.iterrows()) :\n",
    "    if row[\"genre\"] == 'Children' :\n",
    "        colors.append(\"red\")\n",
    "    elif row[\"genre\"] == \"Documentaries\" :\n",
    "        colors.append(\"blue\")\n",
    "    elif row[\"genre\"] == \"Stand-Up\" :\n",
    "        colors.append(\"green\")\n",
    "    else:\n",
    "        colors.append(\"black\")\n",
    "        \n",
    "# Inspect the first 10 values in your list        \n",
    "print(colors[0:10])"
   ]
  },
  {
   "cell_type": "code",
   "execution_count": null,
   "metadata": {},
   "outputs": [],
   "source": [
    "#TASK 9: Plotting with color\n",
    "#Lovely looping! We now have a colors list that we can pass to our scatter plot, which should allow us to visually inspect \n",
    "#whether these genres might be responsible for the decline in the average duration of movies.\n",
    "\n",
    "#This time, we'll also spruce up our plot with some additional axis labels and a new theme with plt.style.use(). The latter \n",
    "#isn't taught in Intermediate Python, but can be a fun way to add some visual flair to a basic matplotlib plot. You can find \n",
    "#more information on customizing the style of your plot here!"
   ]
  },
  {
   "cell_type": "code",
   "execution_count": null,
   "metadata": {},
   "outputs": [],
   "source": [
    "# Set the figure style and initalize a new figure\n",
    "plt.style.use('fivethirtyeight')\n",
    "fig = plt.figure(figsize=(12,8))\n",
    "\n",
    "# Create a scatter plot of duration versus release_year\n",
    "plt.scatter(netflix_movies_col_subset['release_year'],netflix_movies_col_subset['duration'], color = colors)\n",
    "\n",
    "# Create a title and axis labels\n",
    "plt.title(\"Movie duration by year of release\")\n",
    "plt.xlabel(\"Release year\")\n",
    "plt.ylabel(\"Duration (min)\")\n",
    "\n",
    "# Show the plot\n",
    "plt.show"
   ]
  },
  {
   "cell_type": "code",
   "execution_count": 10,
   "metadata": {},
   "outputs": [],
   "source": [
    "#TASK 10: What next?\n",
    "#Well, as we suspected, non-typical genres such as children's movies and documentaries are all clustered around the bottom half \n",
    "#of the plot. But we can't know for certain until we perform additional analyses.\n",
    "\n",
    "#Congratulations, you've performed an exploratory analysis of some entertainment data, and there are lots of fun ways to develop\n",
    "#your skills as a Pythonic data scientist. These include learning how to analyze data further with statistics, creating more \n",
    "#advanced visualizations, and perhaps most importantly, learning more advanced ways of working with data in pandas. This latter \n",
    "#skill is covered in our fantastic course Data Manipulation with pandas.\n",
    "\n",
    "#We hope you enjoyed this application of the skills learned in Intermediate Python, and wish you all the best on the rest of \n",
    "#your journey!"
   ]
  },
  {
   "cell_type": "code",
   "execution_count": null,
   "metadata": {},
   "outputs": [],
   "source": [
    "# Are we certain that movies are getting shorter?\n",
    "are_movies_getting_shorter = \"I am not confident that movies or blockbusters are getting shorter. Further analysis is required. More data for pre-1990 films and statistical analysis is required to make a decision\""
   ]
  }
 ],
 "metadata": {
  "kernelspec": {
   "display_name": "Python 3",
   "language": "python",
   "name": "python3"
  },
  "language_info": {
   "codemirror_mode": {
    "name": "ipython",
    "version": 3
   },
   "file_extension": ".py",
   "mimetype": "text/x-python",
   "name": "python",
   "nbconvert_exporter": "python",
   "pygments_lexer": "ipython3",
   "version": "3.8.5"
  }
 },
 "nbformat": 4,
 "nbformat_minor": 4
}
